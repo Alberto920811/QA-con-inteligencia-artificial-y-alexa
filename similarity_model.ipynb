{
  "nbformat": 4,
  "nbformat_minor": 0,
  "metadata": {
    "colab": {
      "name": "similarity_model.ipynb",
      "provenance": [],
      "collapsed_sections": [],
      "machine_shape": "hm"
    },
    "kernelspec": {
      "name": "python3",
      "display_name": "Python 3"
    }
  },
  "cells": [
    {
      "cell_type": "code",
      "metadata": {
        "id": "eH7Lg4xS5u1L",
        "colab_type": "code",
        "outputId": "c264ff51-599b-4009-c6b5-e8916c482e19",
        "colab": {
          "base_uri": "https://localhost:8080/",
          "height": 700
        }
      },
      "source": [
        "!pip install stop_words\n",
        "from nltk.tokenize import RegexpTokenizer\n",
        "from stop_words import get_stop_words\n",
        "from nltk.stem.porter import PorterStemmer\n",
        "from nltk.stem import WordNetLemmatizer\n",
        "from gensim import corpora, models\n",
        "import gensim\n",
        "from pprint import pprint\n",
        "from google.colab import drive\n",
        "drive.mount('/content/drive/')\n",
        "import pandas as pd \n",
        "\n",
        "import nltk\n",
        "nltk.download('wordnet')"
      ],
      "execution_count": 1,
      "outputs": [
        {
          "output_type": "stream",
          "text": [
            "Collecting stop_words\n",
            "  Downloading https://files.pythonhosted.org/packages/1c/cb/d58290804b7a4c5daa42abbbe2a93c477ae53e45541b1825e86f0dfaaf63/stop-words-2018.7.23.tar.gz\n",
            "Building wheels for collected packages: stop-words\n",
            "  Building wheel for stop-words (setup.py) ... \u001b[?25l\u001b[?25hdone\n",
            "  Created wheel for stop-words: filename=stop_words-2018.7.23-cp36-none-any.whl size=32917 sha256=3477a8f2ca0718cacf904cbb05357b59d1f7cfdb3dd996587e54f0e122c3e4f2\n",
            "  Stored in directory: /root/.cache/pip/wheels/75/37/6a/2b295e03bd07290f0da95c3adb9a74ba95fbc333aa8b0c7c78\n",
            "Successfully built stop-words\n",
            "Installing collected packages: stop-words\n",
            "Successfully installed stop-words-2018.7.23\n"
          ],
          "name": "stdout"
        },
        {
          "output_type": "error",
          "ename": "KeyboardInterrupt",
          "evalue": "ignored",
          "traceback": [
            "\u001b[0;31m---------------------------------------------------------------------------\u001b[0m",
            "\u001b[0;31mKeyboardInterrupt\u001b[0m                         Traceback (most recent call last)",
            "\u001b[0;32m/usr/local/lib/python3.6/dist-packages/ipykernel/kernelbase.py\u001b[0m in \u001b[0;36m_input_request\u001b[0;34m(self, prompt, ident, parent, password)\u001b[0m\n\u001b[1;32m    729\u001b[0m             \u001b[0;32mtry\u001b[0m\u001b[0;34m:\u001b[0m\u001b[0;34m\u001b[0m\u001b[0;34m\u001b[0m\u001b[0m\n\u001b[0;32m--> 730\u001b[0;31m                 \u001b[0mident\u001b[0m\u001b[0;34m,\u001b[0m \u001b[0mreply\u001b[0m \u001b[0;34m=\u001b[0m \u001b[0mself\u001b[0m\u001b[0;34m.\u001b[0m\u001b[0msession\u001b[0m\u001b[0;34m.\u001b[0m\u001b[0mrecv\u001b[0m\u001b[0;34m(\u001b[0m\u001b[0mself\u001b[0m\u001b[0;34m.\u001b[0m\u001b[0mstdin_socket\u001b[0m\u001b[0;34m,\u001b[0m \u001b[0;36m0\u001b[0m\u001b[0;34m)\u001b[0m\u001b[0;34m\u001b[0m\u001b[0;34m\u001b[0m\u001b[0m\n\u001b[0m\u001b[1;32m    731\u001b[0m             \u001b[0;32mexcept\u001b[0m \u001b[0mException\u001b[0m\u001b[0;34m:\u001b[0m\u001b[0;34m\u001b[0m\u001b[0;34m\u001b[0m\u001b[0m\n",
            "\u001b[0;32m/usr/local/lib/python3.6/dist-packages/jupyter_client/session.py\u001b[0m in \u001b[0;36mrecv\u001b[0;34m(self, socket, mode, content, copy)\u001b[0m\n\u001b[1;32m    802\u001b[0m         \u001b[0;32mtry\u001b[0m\u001b[0;34m:\u001b[0m\u001b[0;34m\u001b[0m\u001b[0;34m\u001b[0m\u001b[0m\n\u001b[0;32m--> 803\u001b[0;31m             \u001b[0mmsg_list\u001b[0m \u001b[0;34m=\u001b[0m \u001b[0msocket\u001b[0m\u001b[0;34m.\u001b[0m\u001b[0mrecv_multipart\u001b[0m\u001b[0;34m(\u001b[0m\u001b[0mmode\u001b[0m\u001b[0;34m,\u001b[0m \u001b[0mcopy\u001b[0m\u001b[0;34m=\u001b[0m\u001b[0mcopy\u001b[0m\u001b[0;34m)\u001b[0m\u001b[0;34m\u001b[0m\u001b[0;34m\u001b[0m\u001b[0m\n\u001b[0m\u001b[1;32m    804\u001b[0m         \u001b[0;32mexcept\u001b[0m \u001b[0mzmq\u001b[0m\u001b[0;34m.\u001b[0m\u001b[0mZMQError\u001b[0m \u001b[0;32mas\u001b[0m \u001b[0me\u001b[0m\u001b[0;34m:\u001b[0m\u001b[0;34m\u001b[0m\u001b[0;34m\u001b[0m\u001b[0m\n",
            "\u001b[0;32m/usr/local/lib/python3.6/dist-packages/zmq/sugar/socket.py\u001b[0m in \u001b[0;36mrecv_multipart\u001b[0;34m(self, flags, copy, track)\u001b[0m\n\u001b[1;32m    465\u001b[0m         \"\"\"\n\u001b[0;32m--> 466\u001b[0;31m         \u001b[0mparts\u001b[0m \u001b[0;34m=\u001b[0m \u001b[0;34m[\u001b[0m\u001b[0mself\u001b[0m\u001b[0;34m.\u001b[0m\u001b[0mrecv\u001b[0m\u001b[0;34m(\u001b[0m\u001b[0mflags\u001b[0m\u001b[0;34m,\u001b[0m \u001b[0mcopy\u001b[0m\u001b[0;34m=\u001b[0m\u001b[0mcopy\u001b[0m\u001b[0;34m,\u001b[0m \u001b[0mtrack\u001b[0m\u001b[0;34m=\u001b[0m\u001b[0mtrack\u001b[0m\u001b[0;34m)\u001b[0m\u001b[0;34m]\u001b[0m\u001b[0;34m\u001b[0m\u001b[0;34m\u001b[0m\u001b[0m\n\u001b[0m\u001b[1;32m    467\u001b[0m         \u001b[0;31m# have first part already, only loop while more to receive\u001b[0m\u001b[0;34m\u001b[0m\u001b[0;34m\u001b[0m\u001b[0;34m\u001b[0m\u001b[0m\n",
            "\u001b[0;32mzmq/backend/cython/socket.pyx\u001b[0m in \u001b[0;36mzmq.backend.cython.socket.Socket.recv\u001b[0;34m()\u001b[0m\n",
            "\u001b[0;32mzmq/backend/cython/socket.pyx\u001b[0m in \u001b[0;36mzmq.backend.cython.socket.Socket.recv\u001b[0;34m()\u001b[0m\n",
            "\u001b[0;32mzmq/backend/cython/socket.pyx\u001b[0m in \u001b[0;36mzmq.backend.cython.socket._recv_copy\u001b[0;34m()\u001b[0m\n",
            "\u001b[0;32m/usr/local/lib/python3.6/dist-packages/zmq/backend/cython/checkrc.pxd\u001b[0m in \u001b[0;36mzmq.backend.cython.checkrc._check_rc\u001b[0;34m()\u001b[0m\n",
            "\u001b[0;31mKeyboardInterrupt\u001b[0m: ",
            "\nDuring handling of the above exception, another exception occurred:\n",
            "\u001b[0;31mKeyboardInterrupt\u001b[0m                         Traceback (most recent call last)",
            "\u001b[0;32m<ipython-input-1-312c38cf31cb>\u001b[0m in \u001b[0;36m<module>\u001b[0;34m()\u001b[0m\n\u001b[1;32m      8\u001b[0m \u001b[0;32mfrom\u001b[0m \u001b[0mpprint\u001b[0m \u001b[0;32mimport\u001b[0m \u001b[0mpprint\u001b[0m\u001b[0;34m\u001b[0m\u001b[0;34m\u001b[0m\u001b[0m\n\u001b[1;32m      9\u001b[0m \u001b[0;32mfrom\u001b[0m \u001b[0mgoogle\u001b[0m\u001b[0;34m.\u001b[0m\u001b[0mcolab\u001b[0m \u001b[0;32mimport\u001b[0m \u001b[0mdrive\u001b[0m\u001b[0;34m\u001b[0m\u001b[0;34m\u001b[0m\u001b[0m\n\u001b[0;32m---> 10\u001b[0;31m \u001b[0mdrive\u001b[0m\u001b[0;34m.\u001b[0m\u001b[0mmount\u001b[0m\u001b[0;34m(\u001b[0m\u001b[0;34m'/content/drive/'\u001b[0m\u001b[0;34m)\u001b[0m\u001b[0;34m\u001b[0m\u001b[0;34m\u001b[0m\u001b[0m\n\u001b[0m\u001b[1;32m     11\u001b[0m \u001b[0;32mimport\u001b[0m \u001b[0mpandas\u001b[0m \u001b[0;32mas\u001b[0m \u001b[0mpd\u001b[0m\u001b[0;34m\u001b[0m\u001b[0;34m\u001b[0m\u001b[0m\n\u001b[1;32m     12\u001b[0m \u001b[0;34m\u001b[0m\u001b[0m\n",
            "\u001b[0;32m/usr/local/lib/python3.6/dist-packages/google/colab/drive.py\u001b[0m in \u001b[0;36mmount\u001b[0;34m(mountpoint, force_remount, timeout_ms, use_metadata_server)\u001b[0m\n\u001b[1;32m    236\u001b[0m       \u001b[0mauth_prompt\u001b[0m \u001b[0;34m=\u001b[0m \u001b[0md\u001b[0m\u001b[0;34m.\u001b[0m\u001b[0mmatch\u001b[0m\u001b[0;34m.\u001b[0m\u001b[0mgroup\u001b[0m\u001b[0;34m(\u001b[0m\u001b[0;36m1\u001b[0m\u001b[0;34m)\u001b[0m \u001b[0;34m+\u001b[0m \u001b[0;34m'\\nEnter your authorization code:\\n'\u001b[0m\u001b[0;34m\u001b[0m\u001b[0;34m\u001b[0m\u001b[0m\n\u001b[1;32m    237\u001b[0m       \u001b[0;32mwith\u001b[0m \u001b[0mopen\u001b[0m\u001b[0;34m(\u001b[0m\u001b[0mfifo\u001b[0m\u001b[0;34m,\u001b[0m \u001b[0;34m'w'\u001b[0m\u001b[0;34m)\u001b[0m \u001b[0;32mas\u001b[0m \u001b[0mfifo_file\u001b[0m\u001b[0;34m:\u001b[0m\u001b[0;34m\u001b[0m\u001b[0;34m\u001b[0m\u001b[0m\n\u001b[0;32m--> 238\u001b[0;31m         \u001b[0mfifo_file\u001b[0m\u001b[0;34m.\u001b[0m\u001b[0mwrite\u001b[0m\u001b[0;34m(\u001b[0m\u001b[0m_getpass\u001b[0m\u001b[0;34m.\u001b[0m\u001b[0mgetpass\u001b[0m\u001b[0;34m(\u001b[0m\u001b[0mauth_prompt\u001b[0m\u001b[0;34m)\u001b[0m \u001b[0;34m+\u001b[0m \u001b[0;34m'\\n'\u001b[0m\u001b[0;34m)\u001b[0m\u001b[0;34m\u001b[0m\u001b[0;34m\u001b[0m\u001b[0m\n\u001b[0m\u001b[1;32m    239\u001b[0m       \u001b[0mwrote_to_fifo\u001b[0m \u001b[0;34m=\u001b[0m \u001b[0;32mTrue\u001b[0m\u001b[0;34m\u001b[0m\u001b[0;34m\u001b[0m\u001b[0m\n\u001b[1;32m    240\u001b[0m   \u001b[0;32mif\u001b[0m \u001b[0;32mnot\u001b[0m \u001b[0mwrote_to_fifo\u001b[0m\u001b[0;34m:\u001b[0m\u001b[0;34m\u001b[0m\u001b[0;34m\u001b[0m\u001b[0m\n",
            "\u001b[0;32m/usr/local/lib/python3.6/dist-packages/ipykernel/kernelbase.py\u001b[0m in \u001b[0;36mgetpass\u001b[0;34m(self, prompt, stream)\u001b[0m\n\u001b[1;32m    686\u001b[0m             \u001b[0mself\u001b[0m\u001b[0;34m.\u001b[0m\u001b[0m_parent_ident\u001b[0m\u001b[0;34m,\u001b[0m\u001b[0;34m\u001b[0m\u001b[0;34m\u001b[0m\u001b[0m\n\u001b[1;32m    687\u001b[0m             \u001b[0mself\u001b[0m\u001b[0;34m.\u001b[0m\u001b[0m_parent_header\u001b[0m\u001b[0;34m,\u001b[0m\u001b[0;34m\u001b[0m\u001b[0;34m\u001b[0m\u001b[0m\n\u001b[0;32m--> 688\u001b[0;31m             \u001b[0mpassword\u001b[0m\u001b[0;34m=\u001b[0m\u001b[0;32mTrue\u001b[0m\u001b[0;34m,\u001b[0m\u001b[0;34m\u001b[0m\u001b[0;34m\u001b[0m\u001b[0m\n\u001b[0m\u001b[1;32m    689\u001b[0m         )\n\u001b[1;32m    690\u001b[0m \u001b[0;34m\u001b[0m\u001b[0m\n",
            "\u001b[0;32m/usr/local/lib/python3.6/dist-packages/ipykernel/kernelbase.py\u001b[0m in \u001b[0;36m_input_request\u001b[0;34m(self, prompt, ident, parent, password)\u001b[0m\n\u001b[1;32m    733\u001b[0m             \u001b[0;32mexcept\u001b[0m \u001b[0mKeyboardInterrupt\u001b[0m\u001b[0;34m:\u001b[0m\u001b[0;34m\u001b[0m\u001b[0;34m\u001b[0m\u001b[0m\n\u001b[1;32m    734\u001b[0m                 \u001b[0;31m# re-raise KeyboardInterrupt, to truncate traceback\u001b[0m\u001b[0;34m\u001b[0m\u001b[0;34m\u001b[0m\u001b[0;34m\u001b[0m\u001b[0m\n\u001b[0;32m--> 735\u001b[0;31m                 \u001b[0;32mraise\u001b[0m \u001b[0mKeyboardInterrupt\u001b[0m\u001b[0;34m\u001b[0m\u001b[0;34m\u001b[0m\u001b[0m\n\u001b[0m\u001b[1;32m    736\u001b[0m             \u001b[0;32melse\u001b[0m\u001b[0;34m:\u001b[0m\u001b[0;34m\u001b[0m\u001b[0;34m\u001b[0m\u001b[0m\n\u001b[1;32m    737\u001b[0m                 \u001b[0;32mbreak\u001b[0m\u001b[0;34m\u001b[0m\u001b[0;34m\u001b[0m\u001b[0m\n",
            "\u001b[0;31mKeyboardInterrupt\u001b[0m: "
          ]
        }
      ]
    },
    {
      "cell_type": "code",
      "metadata": {
        "id": "DC38U7ls1Yfs",
        "colab_type": "code",
        "colab": {}
      },
      "source": [
        "PATH= '/content/drive/My Drive/'"
      ],
      "execution_count": 0,
      "outputs": []
    },
    {
      "cell_type": "code",
      "metadata": {
        "id": "DOTXw4Qt-qYc",
        "colab_type": "code",
        "colab": {}
      },
      "source": [
        "tokenizer = RegexpTokenizer(r'\\w+')\n",
        "en_stop = get_stop_words('en')\n",
        "p_stemmer = PorterStemmer()"
      ],
      "execution_count": 0,
      "outputs": []
    },
    {
      "cell_type": "code",
      "metadata": {
        "id": "jrd8GPCc7Z12",
        "colab_type": "code",
        "colab": {}
      },
      "source": [
        "file1 = 'data/abortion.txt'\n",
        "file2 = 'data/alternative_energy.txt'\n",
        "file3 = 'data/animal_testing.txt'\n",
        "file4 = 'data/big_bang.txt'\n",
        "file5 = 'data/bottled_water_ban.txt'\n",
        "file6 = 'data/capitalism.txt'\n",
        "file7 = 'data/cell_phone.txt'\n",
        "file8 = 'data/doping.txt'\n",
        "file9 = 'data/drinking_age.txt'\n",
        "file10 = 'data/euthanasia.txt'\n",
        "file11 = 'data/free_college.txt'\n",
        "file12 = 'data/gender_equality.txt'\n",
        "file13 = 'data/global_warming.txt'\n",
        "file14 = 'data/gun_control.txt'\n",
        "file15 = 'data/homework.txt'\n",
        "file16 = 'data/illegal_inmigration.txt'\n",
        "file17 = 'data/is_a_college_education_worth_it.txt'\n",
        "file18 = 'data/marijuana.txt'\n",
        "file19 = 'data/milk.txt'\n",
        "file20 = 'data/prostitution.txt'\n",
        "file21 = 'data/religion.txt'\n",
        "file22 = 'data/romeo_julieta.txt'\n",
        "file23 = 'data/safe_sex.txt'\n",
        "file24 = 'data/school_uniforms.txt'\n",
        "file25 = 'data/sexual_diversity.txt'\n",
        "file26 = 'data/social_media.txt'\n",
        "file27 = 'data/tablets_vs_textbooks.txt'\n",
        "file28 = 'data/the_death_penalty.txt'\n",
        "file29 = 'data/vaping_ecigarettes.txt'\n",
        "file30 = 'data/vegetarianism.txt'\n",
        "file31 = 'data/video_games.txt'\n",
        "file32 = 'data/artifitial_intelligence.txt'\n",
        "file33 = 'data/voting_machines.txt'\n",
        "file34 = 'data/joker.txt'\n",
        "file35 = 'data/48_hrs.txt'\n",
        "file36 = 'data/ten_things_i_hate_about_you.txt'\n",
        "file37 = 'data/2012.txt'\n",
        "file38 = 'data/SW3.txt'\n",
        "file39 = 'data/what_i_like_about_you.txt'\n",
        "file40 = 'data/a_quiet_place.txt'\n",
        "file41 = 'data/aladdin.txt'\n",
        "file42 = 'data/birthday_girl.txt'\n",
        "file43 = 'data/halloween.txt'\n",
        "file44 = 'data/babel.txt'\n",
        "file45 = 'data/e_t.txt'\n",
        "file46 = 'data/valkyrie.txt'\n",
        "file47 = 'data/aliens.txt'\n",
        "file48 = 'data/8MM.txt'\n",
        "file49 = 'data/assassins.txt'\n",
        "file50 = 'data/apocalypse_now.txt'\n",
        "file51 = 'data/la_la_land.txt'\n",
        "file52 = 'data/SW5.txt'\n",
        "file53 = 'data/magnolia.txt'\n",
        "file54 = 'data/jackie_brown.txt'\n",
        "file55 = 'data/IntegratedPros.txt'\n",
        "file56 = 'data/IntegratedCons.txt'\n",
        "file57 = 'data/debate_script.txt'\n",
        "\n",
        "doc_set = [file1, file2, file3, file4, file5, file6, file7, file8, file9, file10, \n",
        "           file11, file12, file13, file14, file15, file16, file17, file18, file19, \n",
        "           file20, file21, file22, file23, file24, file25, file26, file27, file28,\n",
        "           file29, file30, file31, file32, file33, file34, file35, file36, file37,\n",
        "           file38, file39, file40, file41, file42, file43, file44, file45, file46, \n",
        "           file47, file48, file49, file50, file51, file52, file53, file54, file55,\n",
        "           file56, file57]"
      ],
      "execution_count": 0,
      "outputs": []
    },
    {
      "cell_type": "code",
      "metadata": {
        "id": "gHclnEFLVN4f",
        "colab_type": "code",
        "colab": {}
      },
      "source": [
        "names = pd.read_csv(PATH + 'SSA_Names_DB.csv')\n",
        "names = names['Name']\n",
        "names = [ text.lower() for text in names ]"
      ],
      "execution_count": 0,
      "outputs": []
    },
    {
      "cell_type": "code",
      "metadata": {
        "id": "gupKwDAl53KB",
        "colab_type": "code",
        "colab": {}
      },
      "source": [
        "def preprocess(text):\n",
        "    # clean and tokenize document string\n",
        "    text = text.lower()\n",
        "    tokens = tokenizer.tokenize(text)\n",
        "\n",
        "    #remove names\n",
        "    not_names = [i for i in tokens if not i in names]\n",
        "\n",
        "    #remove short words\n",
        "    no_short_word = [word for word in not_names if len(word) > 3]\n",
        "\n",
        "    # remove stop words from tokens\n",
        "    stopped_tokens = [i for i in no_short_word if not i in en_stop]\n",
        "    \n",
        "    # stem lemmatize tokens\n",
        "    stemmed_lemmatize = [p_stemmer.stem(WordNetLemmatizer().lemmatize(i, pos='v')) for i in stopped_tokens]\n",
        "    return stemmed_lemmatize"
      ],
      "execution_count": 0,
      "outputs": []
    },
    {
      "cell_type": "code",
      "metadata": {
        "id": "zltB9Lyd_7X7",
        "colab_type": "code",
        "colab": {}
      },
      "source": [
        "raw_dataset = pd.read_csv(PATH + 'moviedataset.csv')\n",
        "dataset = raw_dataset.copy().dropna()\n",
        "dataset = dataset['Scripts']"
      ],
      "execution_count": 0,
      "outputs": []
    },
    {
      "cell_type": "code",
      "metadata": {
        "id": "IUS3D19Y2c4D",
        "colab_type": "code",
        "colab": {}
      },
      "source": [
        "texts1 = [ preprocess(text) for text in dataset ]"
      ],
      "execution_count": 0,
      "outputs": []
    },
    {
      "cell_type": "code",
      "metadata": {
        "id": "8JidX93L55q_",
        "colab_type": "code",
        "colab": {}
      },
      "source": [
        "texts2 = []\n",
        "for i in doc_set:\n",
        "    with open(PATH + i, encoding='utf-8-sig') as f:\n",
        "        text = f.read()\n",
        "    f.close()\n",
        "    text_clean = preprocess(text)\n",
        "    # add tokens to list\n",
        "    texts2.append(text_clean)"
      ],
      "execution_count": 0,
      "outputs": []
    },
    {
      "cell_type": "code",
      "metadata": {
        "id": "oJhNBKzzGUxP",
        "colab_type": "code",
        "colab": {}
      },
      "source": [
        "texts = texts1 + texts2"
      ],
      "execution_count": 0,
      "outputs": []
    },
    {
      "cell_type": "code",
      "metadata": {
        "id": "qYY_1Vmsozrt",
        "colab_type": "code",
        "colab": {}
      },
      "source": [
        "dictionary = corpora.Dictionary(texts)\n",
        "feature_cnt = len(dictionary.token2id)\n",
        "#dictionary.filter_extremes(no_below=15, no_above=0.5, keep_n=30000)\n",
        "corpus = [dictionary.doc2bow(text) for text in texts]\n",
        "tfidf = models.TfidfModel(corpus)\n",
        "len(dictionary.token2id)"
      ],
      "execution_count": 0,
      "outputs": []
    },
    {
      "cell_type": "code",
      "metadata": {
        "id": "Ahz-_TDv-ajl",
        "colab_type": "code",
        "colab": {}
      },
      "source": [
        "n_topics = 10\n",
        "lda_model = models.LdaMulticore(tfidf[corpus], \n",
        "            num_topics=n_topics, \n",
        "            id2word=dictionary, \n",
        "            passes=2, \n",
        "            workers=2)\n",
        "for idx, topic in lda_model.print_topics(-1):\n",
        "  print('Topic: {} \\nWords: {}'.format(idx, topic))"
      ],
      "execution_count": 0,
      "outputs": []
    },
    {
      "cell_type": "code",
      "metadata": {
        "id": "oTIQEzokJOn0",
        "colab_type": "code",
        "colab": {}
      },
      "source": [
        "text = input()\n",
        "kw_vector = dictionary.doc2bow(preprocess(text))\n",
        "scores = []\n",
        "for index, score in lda_model[tfidf[kw_vector]]:\n",
        "  print(\"\\nScore: {}\\t \\nTopic: {}\".format(score, lda_model.print_topic(index, n_topics)))\n",
        "  scores.append(score)"
      ],
      "execution_count": 0,
      "outputs": []
    },
    {
      "cell_type": "code",
      "metadata": {
        "id": "1mxYS7atazgf",
        "colab_type": "code",
        "colab": {}
      },
      "source": [
        "from matplotlib.ticker import FuncFormatter\n",
        "import matplotlib.pyplot as plt\n",
        "import numpy as np\n",
        "\n",
        "topics = np.arange(n_topics)\n",
        "def millions(x, pos):\n",
        "    'The two args are the value and tick position'\n",
        "    return '%1.1f' % (x * 1e2)\n",
        "\n",
        "formatter = FuncFormatter(millions)\n",
        "fig, ax = plt.subplots()\n",
        "ax.yaxis.set_major_formatter(formatter)\n",
        "plt.bar(topics, scores)\n",
        "name_topics = [str(i) for i in topics]\n",
        "plt.xticks(topics, name_topics)\n",
        "plt.xlabel('topics')\n",
        "plt.ylabel('scores')\n",
        "plt.title('Similarity')\n",
        "plt.show()"
      ],
      "execution_count": 0,
      "outputs": []
    },
    {
      "cell_type": "code",
      "metadata": {
        "id": "xAJQn8MNrGbP",
        "colab_type": "code",
        "colab": {}
      },
      "source": [
        "from sklearn.externals import joblib\n",
        "joblib.dump(lda_model,\"sim_model.pkl\")"
      ],
      "execution_count": 0,
      "outputs": []
    },
    {
      "cell_type": "code",
      "metadata": {
        "id": "9HvtZE2Iv7Yt",
        "colab_type": "code",
        "colab": {}
      },
      "source": [
        "lda_model"
      ],
      "execution_count": 0,
      "outputs": []
    },
    {
      "cell_type": "code",
      "metadata": {
        "id": "bO2sTi8jrTQJ",
        "colab_type": "code",
        "colab": {}
      },
      "source": [
        "!pip install -U -q PyDrive\n",
        "from pydrive.auth import GoogleAuth\n",
        "from pydrive.drive import GoogleDrive \n",
        "from google.colab import auth \n",
        "from oauth2client.client import GoogleCredentials"
      ],
      "execution_count": 0,
      "outputs": []
    },
    {
      "cell_type": "code",
      "metadata": {
        "id": "mZ9rDuLErdD9",
        "colab_type": "code",
        "colab": {}
      },
      "source": [
        "from google.colab import drive\n",
        "drive.mount('/content/drive')"
      ],
      "execution_count": 0,
      "outputs": []
    },
    {
      "cell_type": "code",
      "metadata": {
        "id": "YpiT0bVrrd5M",
        "colab_type": "code",
        "colab": {}
      },
      "source": [
        "auth.authenticate_user()\n",
        "gauth = GoogleAuth()\n",
        "gauth.credentials = GoogleCredentials.get_application_default()\n",
        "drive = GoogleDrive(gauth)"
      ],
      "execution_count": 0,
      "outputs": []
    },
    {
      "cell_type": "code",
      "metadata": {
        "id": "knR1qbnWro1j",
        "colab_type": "code",
        "colab": {}
      },
      "source": [
        "model_file = drive.CreateFile({'title' : 'sim_model.pkl'})                       \n",
        "model_file.SetContentFile('sim_model.pkl')                       \n",
        "model_file.Upload()"
      ],
      "execution_count": 0,
      "outputs": []
    },
    {
      "cell_type": "code",
      "metadata": {
        "id": "J74I-Gg-ruav",
        "colab_type": "code",
        "colab": {}
      },
      "source": [
        "# descargar a google drive                       \n",
        "drive.CreateFile({'id': model_file.get('id')})"
      ],
      "execution_count": 0,
      "outputs": []
    }
  ]
}